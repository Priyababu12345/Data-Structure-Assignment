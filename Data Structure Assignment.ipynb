{
 "cells": [
  {
   "cell_type": "code",
   "execution_count": 1,
   "id": "b2d94aa1-f416-4919-b0f2-e1d189dbb54f",
   "metadata": {},
   "outputs": [],
   "source": [
    "#Q.1 Discuss string slicing and provide examples."
   ]
  },
  {
   "cell_type": "code",
   "execution_count": 2,
   "id": "1f8027bc-0af6-4c83-b600-ac6d73ccb2d7",
   "metadata": {},
   "outputs": [],
   "source": [
    "#Ans "
   ]
  },
  {
   "cell_type": "code",
   "execution_count": 3,
   "id": "9aa9b438-92e7-4607-a274-a751564b7242",
   "metadata": {},
   "outputs": [],
   "source": [
    "fruits_name = (\"apple\",\"orange\",\"mango\",\"grapes\")"
   ]
  },
  {
   "cell_type": "code",
   "execution_count": 4,
   "id": "0066b6bc-db83-4a3f-b72e-ad047afc77ba",
   "metadata": {},
   "outputs": [
    {
     "data": {
      "text/plain": [
       "('apple', 'orange')"
      ]
     },
     "execution_count": 4,
     "metadata": {},
     "output_type": "execute_result"
    }
   ],
   "source": [
    "fruits_name[0:2]"
   ]
  },
  {
   "cell_type": "code",
   "execution_count": 5,
   "id": "4df604c7-4dcd-444e-8c63-c60ac3ece929",
   "metadata": {},
   "outputs": [
    {
     "data": {
      "text/plain": [
       "('apple', 'orange')"
      ]
     },
     "execution_count": 5,
     "metadata": {},
     "output_type": "execute_result"
    }
   ],
   "source": [
    "fruits_name[0:-2]"
   ]
  },
  {
   "cell_type": "code",
   "execution_count": 6,
   "id": "116615bf-9fd0-4fda-9e2c-8a9e0b8e479c",
   "metadata": {},
   "outputs": [],
   "source": [
    "#Q.2 Explain the key features of list in python."
   ]
  },
  {
   "cell_type": "code",
   "execution_count": 7,
   "id": "3523c6bf-8e11-40e0-958f-c036ac394344",
   "metadata": {},
   "outputs": [],
   "source": [
    "#Ans"
   ]
  },
  {
   "cell_type": "code",
   "execution_count": 8,
   "id": "e0ef9910-724c-4fc0-aa49-c68bbab1dc0b",
   "metadata": {},
   "outputs": [],
   "source": [
    "l1 = [1,2,3,4,1.2,\"priya\",5+6j,\"raju\",True,False,445,2.8]"
   ]
  },
  {
   "cell_type": "code",
   "execution_count": 9,
   "id": "487bc82f-6067-4c8e-88d3-010bfe5ddbee",
   "metadata": {},
   "outputs": [
    {
     "data": {
      "text/plain": [
       "[1, 2, 3, 4, 1.2, 'priya', (5+6j), 'raju', True, False, 445, 2.8]"
      ]
     },
     "execution_count": 9,
     "metadata": {},
     "output_type": "execute_result"
    }
   ],
   "source": [
    "l1"
   ]
  },
  {
   "cell_type": "code",
   "execution_count": 13,
   "id": "fda2ab76-2c9c-489d-a33a-a9dd54b6f93a",
   "metadata": {},
   "outputs": [],
   "source": [
    "l1.append(\"meera\")"
   ]
  },
  {
   "cell_type": "code",
   "execution_count": 17,
   "id": "936c815f-8f88-4e2f-9253-94be5142d0be",
   "metadata": {},
   "outputs": [
    {
     "data": {
      "text/plain": [
       "[1, 2, 3, 4, 1.2, 'priya', (5+6j), 'raju', True, False, 445, 2.8, 'meera']"
      ]
     },
     "execution_count": 17,
     "metadata": {},
     "output_type": "execute_result"
    }
   ],
   "source": [
    "l1"
   ]
  },
  {
   "cell_type": "code",
   "execution_count": 20,
   "id": "4d9b9c3b-221a-4f6d-8fe4-36b5a49c1203",
   "metadata": {},
   "outputs": [
    {
     "data": {
      "text/plain": [
       "[1, 2, 3, 4, 1.2, 'priya', (5+6j), 'raju', True, False, 445, 2.8, 'meera']"
      ]
     },
     "execution_count": 20,
     "metadata": {},
     "output_type": "execute_result"
    }
   ],
   "source": [
    "l1"
   ]
  },
  {
   "cell_type": "code",
   "execution_count": 27,
   "id": "e26da8af-c2f8-4324-885b-3eb3aa08423d",
   "metadata": {},
   "outputs": [
    {
     "data": {
      "text/plain": [
       "1"
      ]
     },
     "execution_count": 27,
     "metadata": {},
     "output_type": "execute_result"
    }
   ],
   "source": [
    "l1.count(\"priya\")"
   ]
  },
  {
   "cell_type": "code",
   "execution_count": 29,
   "id": "8d6f4d21-5391-48fb-8a1d-bea5f48dde81",
   "metadata": {},
   "outputs": [],
   "source": [
    "l1.extend(\"meera\")"
   ]
  },
  {
   "cell_type": "code",
   "execution_count": 34,
   "id": "4a4d27a2-0bd3-4481-89bb-9319a672cd10",
   "metadata": {},
   "outputs": [
    {
     "data": {
      "text/plain": [
       "[1,\n",
       " 2,\n",
       " 3,\n",
       " 4,\n",
       " 1.2,\n",
       " 'priya',\n",
       " (5+6j),\n",
       " 'raju',\n",
       " True,\n",
       " False,\n",
       " 445,\n",
       " 2.8,\n",
       " 'meera',\n",
       " 'm',\n",
       " 'e',\n",
       " 'e',\n",
       " 'r',\n",
       " 'a',\n",
       " 'm',\n",
       " 'e',\n",
       " 'e',\n",
       " 'r',\n",
       " 'a',\n",
       " 'm',\n",
       " 'e',\n",
       " 'e',\n",
       " 'r',\n",
       " 'a',\n",
       " 'm',\n",
       " 'e',\n",
       " 'e',\n",
       " 'r',\n",
       " 'a']"
      ]
     },
     "execution_count": 34,
     "metadata": {},
     "output_type": "execute_result"
    }
   ],
   "source": [
    "l1"
   ]
  },
  {
   "cell_type": "code",
   "execution_count": 36,
   "id": "5ffbeaf2-b404-473f-ad07-52c674409eb8",
   "metadata": {},
   "outputs": [
    {
     "data": {
      "text/plain": [
       "'a'"
      ]
     },
     "execution_count": 36,
     "metadata": {},
     "output_type": "execute_result"
    }
   ],
   "source": [
    "l1.pop()"
   ]
  },
  {
   "cell_type": "code",
   "execution_count": 38,
   "id": "399d8f18-ae75-494f-b383-8e92f5c17958",
   "metadata": {},
   "outputs": [
    {
     "data": {
      "text/plain": [
       "[1,\n",
       " 2,\n",
       " 3,\n",
       " 4,\n",
       " 1.2,\n",
       " 'priya',\n",
       " (5+6j),\n",
       " 'raju',\n",
       " True,\n",
       " False,\n",
       " 445,\n",
       " 2.8,\n",
       " 'meera',\n",
       " 'm',\n",
       " 'e',\n",
       " 'e',\n",
       " 'r',\n",
       " 'a',\n",
       " 'm',\n",
       " 'e',\n",
       " 'e',\n",
       " 'r',\n",
       " 'a',\n",
       " 'm',\n",
       " 'e',\n",
       " 'e',\n",
       " 'r',\n",
       " 'a',\n",
       " 'm',\n",
       " 'e',\n",
       " 'e',\n",
       " 'r']"
      ]
     },
     "execution_count": 38,
     "metadata": {},
     "output_type": "execute_result"
    }
   ],
   "source": [
    "l1"
   ]
  },
  {
   "cell_type": "code",
   "execution_count": 42,
   "id": "b77c28fa-f3fe-4dea-abf9-cec8bd93514e",
   "metadata": {},
   "outputs": [],
   "source": [
    "l1.reverse()"
   ]
  },
  {
   "cell_type": "code",
   "execution_count": 43,
   "id": "4a1e7992-d5bb-4a1d-b57e-d24ef4c0e95a",
   "metadata": {},
   "outputs": [
    {
     "data": {
      "text/plain": [
       "['r',\n",
       " 'e',\n",
       " 'e',\n",
       " 'm',\n",
       " 'a',\n",
       " 'r',\n",
       " 'e',\n",
       " 'e',\n",
       " 'm',\n",
       " 'a',\n",
       " 'r',\n",
       " 'e',\n",
       " 'e',\n",
       " 'm',\n",
       " 'a',\n",
       " 'r',\n",
       " 'e',\n",
       " 'e',\n",
       " 'm',\n",
       " 2.8,\n",
       " 445,\n",
       " False,\n",
       " True,\n",
       " 'raju',\n",
       " (5+6j),\n",
       " 'priya',\n",
       " 1.2,\n",
       " 4,\n",
       " 3,\n",
       " 2,\n",
       " 1]"
      ]
     },
     "execution_count": 43,
     "metadata": {},
     "output_type": "execute_result"
    }
   ],
   "source": [
    "l1"
   ]
  },
  {
   "cell_type": "code",
   "execution_count": 46,
   "id": "79ac7d50-0c71-464a-9dce-72ee0feb60ec",
   "metadata": {},
   "outputs": [
    {
     "data": {
      "text/plain": [
       "20"
      ]
     },
     "execution_count": 46,
     "metadata": {},
     "output_type": "execute_result"
    }
   ],
   "source": [
    "l1.index(445)"
   ]
  },
  {
   "cell_type": "code",
   "execution_count": 51,
   "id": "f4b4a0fe-75c7-455c-875d-ab7668519cc3",
   "metadata": {},
   "outputs": [
    {
     "data": {
      "text/plain": [
       "['r',\n",
       " 'e',\n",
       " 'e',\n",
       " 'm',\n",
       " 'a',\n",
       " 'r',\n",
       " 'e',\n",
       " 'e',\n",
       " 'm',\n",
       " 'a',\n",
       " 'r',\n",
       " 'e',\n",
       " 'e',\n",
       " 'm',\n",
       " 'a',\n",
       " 'r',\n",
       " 'e',\n",
       " 'e',\n",
       " 'm',\n",
       " 2.8,\n",
       " 445,\n",
       " False,\n",
       " True,\n",
       " 'raju',\n",
       " (5+6j),\n",
       " 'priya',\n",
       " 1.2,\n",
       " 4,\n",
       " 3,\n",
       " 2,\n",
       " 1]"
      ]
     },
     "execution_count": 51,
     "metadata": {},
     "output_type": "execute_result"
    }
   ],
   "source": [
    "l1"
   ]
  },
  {
   "cell_type": "code",
   "execution_count": 52,
   "id": "15b4e3a8-d2d5-4b28-965b-b79ad06fc2f1",
   "metadata": {},
   "outputs": [],
   "source": [
    "l1.insert(9,555)   \n",
    "   "
   ]
  },
  {
   "cell_type": "code",
   "execution_count": 55,
   "id": "a72ad791-7a90-4655-b880-738777aadc61",
   "metadata": {},
   "outputs": [
    {
     "data": {
      "text/plain": [
       "['a',\n",
       " 'e',\n",
       " 'e',\n",
       " 'e',\n",
       " 'e',\n",
       " 'm',\n",
       " 'm',\n",
       " 'r',\n",
       " 'r',\n",
       " 555,\n",
       " 'a',\n",
       " 'r',\n",
       " 'e',\n",
       " 'e',\n",
       " 'm',\n",
       " 'a',\n",
       " 'r',\n",
       " 'e',\n",
       " 'e',\n",
       " 'm',\n",
       " 2.8,\n",
       " 445,\n",
       " False,\n",
       " True,\n",
       " 'raju',\n",
       " (5+6j),\n",
       " 'priya',\n",
       " 1.2,\n",
       " 4,\n",
       " 3,\n",
       " 2,\n",
       " 1]"
      ]
     },
     "execution_count": 55,
     "metadata": {},
     "output_type": "execute_result"
    }
   ],
   "source": [
    "l1"
   ]
  },
  {
   "cell_type": "code",
   "execution_count": 68,
   "id": "61a3f06d-58a9-44be-ab0e-4f810e3cbbd2",
   "metadata": {},
   "outputs": [],
   "source": [
    "l2 =[1,5,7,2,9,15,11]"
   ]
  },
  {
   "cell_type": "code",
   "execution_count": 69,
   "id": "f102d684-895b-4611-aa1f-de1661ed0c03",
   "metadata": {},
   "outputs": [
    {
     "data": {
      "text/plain": [
       "[1, 5, 7, 2, 9, 15, 11]"
      ]
     },
     "execution_count": 69,
     "metadata": {},
     "output_type": "execute_result"
    }
   ],
   "source": [
    "l2"
   ]
  },
  {
   "cell_type": "code",
   "execution_count": 70,
   "id": "76c2d683-5ee5-46ce-9276-1b538bbd8b35",
   "metadata": {},
   "outputs": [],
   "source": [
    "l2.sort()"
   ]
  },
  {
   "cell_type": "code",
   "execution_count": 71,
   "id": "43b1d820-194b-4238-87f4-d23dbbef627e",
   "metadata": {},
   "outputs": [
    {
     "data": {
      "text/plain": [
       "[1, 2, 5, 7, 9, 11, 15]"
      ]
     },
     "execution_count": 71,
     "metadata": {},
     "output_type": "execute_result"
    }
   ],
   "source": [
    "l2"
   ]
  },
  {
   "cell_type": "code",
   "execution_count": 72,
   "id": "5725b2ef-87ff-4445-a6f9-ae4c5d5eba22",
   "metadata": {},
   "outputs": [],
   "source": [
    "#Q.3 Describe how to access,modify,and delete elements in a list with examples.\n"
   ]
  },
  {
   "cell_type": "code",
   "execution_count": 73,
   "id": "cdc25e48-d27a-43a0-bf2c-90e2858d413a",
   "metadata": {},
   "outputs": [],
   "source": [
    "#Ans"
   ]
  },
  {
   "cell_type": "code",
   "execution_count": 75,
   "id": "651384ce-a8ec-4ef2-bf67-19ad5991c85c",
   "metadata": {},
   "outputs": [],
   "source": [
    "l3 = [5,10,15,\"jan\",\"feb\",555]"
   ]
  },
  {
   "cell_type": "code",
   "execution_count": 76,
   "id": "b2a95867-bf1d-4fb8-91ed-d2bf3836072a",
   "metadata": {},
   "outputs": [
    {
     "data": {
      "text/plain": [
       "[5, 10, 15, 'jan', 'feb', 555]"
      ]
     },
     "execution_count": 76,
     "metadata": {},
     "output_type": "execute_result"
    }
   ],
   "source": [
    "l3"
   ]
  },
  {
   "cell_type": "code",
   "execution_count": 77,
   "id": "0576f19a-ec76-45f0-9e20-d93df31620df",
   "metadata": {},
   "outputs": [],
   "source": [
    "l3[2]=55"
   ]
  },
  {
   "cell_type": "code",
   "execution_count": 78,
   "id": "b0465081-4823-43e5-8f9b-0b4da6a73748",
   "metadata": {},
   "outputs": [
    {
     "data": {
      "text/plain": [
       "[5, 10, 55, 'jan', 'feb', 555]"
      ]
     },
     "execution_count": 78,
     "metadata": {},
     "output_type": "execute_result"
    }
   ],
   "source": [
    "l3"
   ]
  },
  {
   "cell_type": "code",
   "execution_count": 80,
   "id": "8f60b833-0e1f-48ee-889a-a4fba08f8474",
   "metadata": {},
   "outputs": [
    {
     "data": {
      "text/plain": [
       "[5, 10, 55, 'jan', 'feb', 555]"
      ]
     },
     "execution_count": 80,
     "metadata": {},
     "output_type": "execute_result"
    }
   ],
   "source": [
    "l3"
   ]
  },
  {
   "cell_type": "code",
   "execution_count": 81,
   "id": "e247083e-6f6d-42dc-8749-250a8340f1a3",
   "metadata": {},
   "outputs": [],
   "source": [
    "l3.append(66)"
   ]
  },
  {
   "cell_type": "code",
   "execution_count": 82,
   "id": "b4407ccd-89d9-48a3-bd2f-bac040b5bb75",
   "metadata": {},
   "outputs": [
    {
     "data": {
      "text/plain": [
       "[5, 10, 55, 'jan', 'feb', 555, 66]"
      ]
     },
     "execution_count": 82,
     "metadata": {},
     "output_type": "execute_result"
    }
   ],
   "source": [
    "l3"
   ]
  },
  {
   "cell_type": "code",
   "execution_count": 83,
   "id": "afdc1166-6878-4768-b982-b3f4fb3d4d48",
   "metadata": {},
   "outputs": [
    {
     "data": {
      "text/plain": [
       "[5, 10, 55, 'jan', 'feb', 555, 66]"
      ]
     },
     "execution_count": 83,
     "metadata": {},
     "output_type": "execute_result"
    }
   ],
   "source": [
    "l3"
   ]
  },
  {
   "cell_type": "code",
   "execution_count": 84,
   "id": "eadaa784-3a26-4acd-b676-4dd2ab8ef0c5",
   "metadata": {},
   "outputs": [],
   "source": [
    "l3.remove(66)"
   ]
  },
  {
   "cell_type": "code",
   "execution_count": 85,
   "id": "5dc63744-c495-4a2e-a187-0a7da7a5460c",
   "metadata": {},
   "outputs": [
    {
     "data": {
      "text/plain": [
       "[5, 10, 55, 'jan', 'feb', 555]"
      ]
     },
     "execution_count": 85,
     "metadata": {},
     "output_type": "execute_result"
    }
   ],
   "source": [
    "l3"
   ]
  },
  {
   "cell_type": "code",
   "execution_count": null,
   "id": "c4044faa-8f5b-484b-a684-be4258662573",
   "metadata": {},
   "outputs": [],
   "source": [
    "#Q.4 compare and contrast tuples and list with examples"
   ]
  },
  {
   "cell_type": "code",
   "execution_count": 7,
   "id": "c2f04a73-aecc-4ff5-a248-b522a0261cc7",
   "metadata": {},
   "outputs": [],
   "source": [
    "t1 = (1,2,3,4,5,6,7,8,9)"
   ]
  },
  {
   "cell_type": "code",
   "execution_count": 8,
   "id": "4665b767-3149-4db1-9ed2-a4a9bf5bb9c0",
   "metadata": {},
   "outputs": [
    {
     "data": {
      "text/plain": [
       "(1, 2, 3, 4, 5, 6, 7, 8, 9)"
      ]
     },
     "execution_count": 8,
     "metadata": {},
     "output_type": "execute_result"
    }
   ],
   "source": [
    "t1"
   ]
  },
  {
   "cell_type": "code",
   "execution_count": 4,
   "id": "1a0db102-5918-4705-a9ae-e328e9ce5f0c",
   "metadata": {},
   "outputs": [],
   "source": [
    "l3 = [\"sunday\",\"monday\",\"tuesday\",\"wednesday\",\"thursday\"]"
   ]
  },
  {
   "cell_type": "code",
   "execution_count": 5,
   "id": "3f2ae013-6de0-4ef4-af23-99f725ea1ba1",
   "metadata": {},
   "outputs": [
    {
     "data": {
      "text/plain": [
       "['sunday', 'monday', 'tuesday', 'wednesday', 'thursday']"
      ]
     },
     "execution_count": 5,
     "metadata": {},
     "output_type": "execute_result"
    }
   ],
   "source": [
    "l3"
   ]
  },
  {
   "cell_type": "code",
   "execution_count": 9,
   "id": "340ca442-92b6-46e4-827e-05e56bc86647",
   "metadata": {},
   "outputs": [],
   "source": [
    "#Q.5 Describe the key features of sets and provide examples of their use"
   ]
  },
  {
   "cell_type": "code",
   "execution_count": 10,
   "id": "c7f51ff4-c5df-42ab-85ec-62711c750fb0",
   "metadata": {},
   "outputs": [],
   "source": [
    "#Ans"
   ]
  },
  {
   "cell_type": "code",
   "execution_count": 11,
   "id": "0a52ce8e-d656-4087-8c20-f3d8b84575f8",
   "metadata": {},
   "outputs": [],
   "source": [
    "s = {1,2,3,4,5,6,7,8,9}"
   ]
  },
  {
   "cell_type": "code",
   "execution_count": 12,
   "id": "b63299cc-f77b-4708-b0e0-a631c1f09648",
   "metadata": {},
   "outputs": [
    {
     "data": {
      "text/plain": [
       "{1, 2, 3, 4, 5, 6, 7, 8, 9}"
      ]
     },
     "execution_count": 12,
     "metadata": {},
     "output_type": "execute_result"
    }
   ],
   "source": [
    "s"
   ]
  },
  {
   "cell_type": "code",
   "execution_count": 13,
   "id": "200251e9-23cd-4b4f-a785-3cb597b90f51",
   "metadata": {},
   "outputs": [],
   "source": [
    "s.add(10)"
   ]
  },
  {
   "cell_type": "code",
   "execution_count": 14,
   "id": "419110eb-2c16-4e73-9a96-c482dd26bd48",
   "metadata": {},
   "outputs": [
    {
     "data": {
      "text/plain": [
       "{1, 2, 3, 4, 5, 6, 7, 8, 9, 10}"
      ]
     },
     "execution_count": 14,
     "metadata": {},
     "output_type": "execute_result"
    }
   ],
   "source": [
    "s"
   ]
  },
  {
   "cell_type": "code",
   "execution_count": 15,
   "id": "260842b4-2237-4af0-9262-03ce651a1329",
   "metadata": {},
   "outputs": [],
   "source": [
    "s.remove(10)"
   ]
  },
  {
   "cell_type": "code",
   "execution_count": 16,
   "id": "b316c3e0-0c76-4209-8942-eacdd8813701",
   "metadata": {},
   "outputs": [
    {
     "data": {
      "text/plain": [
       "{1, 2, 3, 4, 5, 6, 7, 8, 9}"
      ]
     },
     "execution_count": 16,
     "metadata": {},
     "output_type": "execute_result"
    }
   ],
   "source": [
    "s"
   ]
  },
  {
   "cell_type": "code",
   "execution_count": 17,
   "id": "27708a93-716e-4683-bc99-496b03ad63d4",
   "metadata": {},
   "outputs": [],
   "source": [
    "s.discard(9)"
   ]
  },
  {
   "cell_type": "code",
   "execution_count": 18,
   "id": "0cf94dc7-e409-4340-a0d8-491e4988066d",
   "metadata": {},
   "outputs": [
    {
     "data": {
      "text/plain": [
       "{1, 2, 3, 4, 5, 6, 7, 8}"
      ]
     },
     "execution_count": 18,
     "metadata": {},
     "output_type": "execute_result"
    }
   ],
   "source": [
    "s"
   ]
  },
  {
   "cell_type": "code",
   "execution_count": 24,
   "id": "3427b7f4-1261-422b-9356-5c5766afc4d6",
   "metadata": {},
   "outputs": [
    {
     "name": "stdout",
     "output_type": "stream",
     "text": [
      "{1, 2, 3, 4, 5}\n"
     ]
    }
   ],
   "source": [
    "set_a = {1,2,3}\n",
    "set_b = {3,4,5}\n",
    "union_set = set_a|set_b\n",
    "print(union_set)"
   ]
  },
  {
   "cell_type": "code",
   "execution_count": 29,
   "id": "3b6a056c-423b-440d-9d5d-3660f92246bf",
   "metadata": {},
   "outputs": [
    {
     "data": {
      "text/plain": [
       "{1, 2, 3, 4, 5, 6, 7, 8, 11, 12}"
      ]
     },
     "execution_count": 29,
     "metadata": {},
     "output_type": "execute_result"
    }
   ],
   "source": [
    "s.union({11,12})"
   ]
  },
  {
   "cell_type": "code",
   "execution_count": 42,
   "id": "6bfba57f-54a1-49f3-b868-7b3d6f29c750",
   "metadata": {},
   "outputs": [
    {
     "data": {
      "text/plain": [
       "set()"
      ]
     },
     "execution_count": 42,
     "metadata": {},
     "output_type": "execute_result"
    }
   ],
   "source": [
    "s.difference({1,2,3,4,5,6,7,8,9,10,11,12})"
   ]
  },
  {
   "cell_type": "code",
   "execution_count": 43,
   "id": "6ca104d9-3cd5-4948-8d0e-88dc677308ee",
   "metadata": {},
   "outputs": [
    {
     "data": {
      "text/plain": [
       "{1, 2, 3, 4, 5, 8}"
      ]
     },
     "execution_count": 43,
     "metadata": {},
     "output_type": "execute_result"
    }
   ],
   "source": [
    "s.intersection({1,2,3,4,5,6,7,8,9,10,11,12})"
   ]
  },
  {
   "cell_type": "code",
   "execution_count": 52,
   "id": "f634bf2c-bd81-4901-84ed-f9d959bbfb37",
   "metadata": {},
   "outputs": [
    {
     "data": {
      "text/plain": [
       "{6, 7, 9, 10, 11, 12}"
      ]
     },
     "execution_count": 52,
     "metadata": {},
     "output_type": "execute_result"
    }
   ],
   "source": [
    "s.symmetric_difference({1,2,3,4,5,6,7,8,9,10,11,12})"
   ]
  },
  {
   "cell_type": "code",
   "execution_count": 53,
   "id": "4fb0b181-c742-4b45-9b5f-f5baa342edd4",
   "metadata": {},
   "outputs": [],
   "source": [
    "#Q.6 discuss the use cases of tuples and sets in python programming."
   ]
  },
  {
   "cell_type": "code",
   "execution_count": 54,
   "id": "5c3b82ce-8092-434a-adf4-00b5d5db5870",
   "metadata": {},
   "outputs": [],
   "source": [
    "#Ans"
   ]
  },
  {
   "cell_type": "code",
   "execution_count": 55,
   "id": "78a139dc-4570-48ef-b982-ffbc447402d9",
   "metadata": {},
   "outputs": [],
   "source": [
    "#Tuple = tuples is immutable once created,you cannot change the element of a tuple \n",
    "#ordered = tuples maintain the order of element as they were defind\n",
    "#allow duplicates = Tuples can contains duplicate values.\n",
    "#Hashable = Since they are immutable, tuples can be used as keys in dictionaries as key in elements in sets"
   ]
  },
  {
   "cell_type": "code",
   "execution_count": 56,
   "id": "39ebed86-232a-49d7-992c-1fffdf85e1b6",
   "metadata": {},
   "outputs": [],
   "source": [
    "#Example:"
   ]
  },
  {
   "cell_type": "code",
   "execution_count": 57,
   "id": "7365eb95-a41e-4a0b-845f-ac27b3980da2",
   "metadata": {},
   "outputs": [],
   "source": [
    "t = (1,2,3,4,5,6,7,8,9,10)"
   ]
  },
  {
   "cell_type": "code",
   "execution_count": 58,
   "id": "9bb73e04-c107-4d3c-b790-5a2f67e354eb",
   "metadata": {},
   "outputs": [
    {
     "data": {
      "text/plain": [
       "(1, 2, 3, 4, 5, 6, 7, 8, 9, 10)"
      ]
     },
     "execution_count": 58,
     "metadata": {},
     "output_type": "execute_result"
    }
   ],
   "source": [
    "t"
   ]
  },
  {
   "cell_type": "code",
   "execution_count": 63,
   "id": "84e5d921-9952-486b-bd61-aea2713238e5",
   "metadata": {},
   "outputs": [
    {
     "data": {
      "text/plain": [
       "1"
      ]
     },
     "execution_count": 63,
     "metadata": {},
     "output_type": "execute_result"
    }
   ],
   "source": [
    "min(1,10)"
   ]
  },
  {
   "cell_type": "code",
   "execution_count": 64,
   "id": "0f2819dc-af77-4b60-b90e-c7e5fcca209a",
   "metadata": {},
   "outputs": [
    {
     "data": {
      "text/plain": [
       "10"
      ]
     },
     "execution_count": 64,
     "metadata": {},
     "output_type": "execute_result"
    }
   ],
   "source": [
    "max(1,10)"
   ]
  },
  {
   "cell_type": "code",
   "execution_count": 68,
   "id": "e874ab0a-9fb2-4fc3-a4cc-7820cd6869f3",
   "metadata": {},
   "outputs": [
    {
     "data": {
      "text/plain": [
       "10"
      ]
     },
     "execution_count": 68,
     "metadata": {},
     "output_type": "execute_result"
    }
   ],
   "source": [
    "len(t)"
   ]
  },
  {
   "cell_type": "code",
   "execution_count": 69,
   "id": "a5abc784-0c18-4b93-baf3-daae5a0b8466",
   "metadata": {},
   "outputs": [
    {
     "data": {
      "text/plain": [
       "55"
      ]
     },
     "execution_count": 69,
     "metadata": {},
     "output_type": "execute_result"
    }
   ],
   "source": [
    "sum(t)"
   ]
  },
  {
   "cell_type": "code",
   "execution_count": 70,
   "id": "be45e966-8923-421b-b6fd-3e179fa2b91b",
   "metadata": {},
   "outputs": [],
   "source": [
    "#Q.7 Describe how to add,modify,and delete items in a dictinary with examples."
   ]
  },
  {
   "cell_type": "code",
   "execution_count": 71,
   "id": "b1eee2a8-2f41-4218-8f43-d49863833bb8",
   "metadata": {},
   "outputs": [],
   "source": [
    "#Ans"
   ]
  },
  {
   "cell_type": "code",
   "execution_count": 77,
   "id": "fd614509-7dc7-49b7-9b37-b9e3b721dd55",
   "metadata": {},
   "outputs": [
    {
     "name": "stdout",
     "output_type": "stream",
     "text": [
      "{'names': 'priya', 'age': 25, 'city': 'Hosur'}\n"
     ]
    }
   ],
   "source": [
    "person = {\n",
    "    \"names\":\"priya\",\n",
    "    \"age\":25\n",
    "}\n",
    "person[\"city\"] = \"Hosur\"\n",
    "print(person)"
   ]
  },
  {
   "cell_type": "code",
   "execution_count": 82,
   "id": "a523f0b0-9d83-41ca-addf-bae02eec50b4",
   "metadata": {},
   "outputs": [],
   "source": [
    "person = {\n",
    "    \"name\":\"priya\",\"age\":25,\"city\":\"hosur\"\n",
    "}\n",
    "person.update({\"name\": \"meera\",\"age\":30,\"city\": \"Belgaum\"})\n",
    "    "
   ]
  },
  {
   "cell_type": "code",
   "execution_count": 83,
   "id": "f14b6bbe-83ad-4a01-a1b8-1fe307480fea",
   "metadata": {},
   "outputs": [
    {
     "name": "stdout",
     "output_type": "stream",
     "text": [
      "{'name': 'meera', 'age': 30, 'city': 'Belgaum'}\n"
     ]
    }
   ],
   "source": [
    "print(person)"
   ]
  },
  {
   "cell_type": "code",
   "execution_count": 2,
   "id": "33a49dcf-aaf1-4e34-87a5-511db41c6d7e",
   "metadata": {},
   "outputs": [],
   "source": [
    "person = {\n",
    "    \"name\":\"priya\",\n",
    "    \"age\":50,\n",
    "    \"city\":\"hosur\"\n",
    "}\n",
    "del person[\"age\"]"
   ]
  },
  {
   "cell_type": "code",
   "execution_count": 3,
   "id": "d7a9786d-78b1-4d60-ab9b-82f566cafe53",
   "metadata": {},
   "outputs": [
    {
     "name": "stdout",
     "output_type": "stream",
     "text": [
      "{'name': 'priya', 'city': 'hosur'}\n"
     ]
    }
   ],
   "source": [
    "print(person)"
   ]
  },
  {
   "cell_type": "code",
   "execution_count": 6,
   "id": "2a9609ea-8f62-4a51-99df-4fad9ac340e1",
   "metadata": {},
   "outputs": [],
   "source": [
    "#Q.8 Discuss the importance of dictionary keys being immutable and provide examples"
   ]
  },
  {
   "cell_type": "code",
   "execution_count": 7,
   "id": "6c48a046-6ee8-4f3e-a05c-e4badf9a4737",
   "metadata": {},
   "outputs": [],
   "source": [
    "#Ans"
   ]
  },
  {
   "cell_type": "code",
   "execution_count": 8,
   "id": "3a0a1d91-aaba-4350-b203-a20327fe27ed",
   "metadata": {},
   "outputs": [],
   "source": [
    "# imporatance of immutable dictionary keys:\n",
    "# 1.# consistancy:\n",
    "# dictionaries use hashing machanism to store and retrieve values quickly a key is hashed to produced a hash value, which determines its position in the dictionary\n",
    "# 2.# data integrity:\n",
    "# mutability guarantees that once a key is added to a dictionary,it remains unchanged.these ensures that the relationship between keys and values remains consistance throughout that life time of the dictionary\n",
    "# 3.# performance:\n",
    "#1. immutable objects (like strings and tuples) have predictable behaviour and are more efficient for hash-based lookups since their state doesnot change their hash values remain constant,which contribute to faster and more reliable dictionary operation."
   ]
  },
  {
   "cell_type": "code",
   "execution_count": 9,
   "id": "f820c9d6-9303-4ca6-b19f-f91b8b7b2761",
   "metadata": {},
   "outputs": [
    {
     "name": "stdout",
     "output_type": "stream",
     "text": [
      "values\n"
     ]
    }
   ],
   "source": [
    "d = {}\n",
    "key = (1,2,3)\n",
    "d[key]= \"values\"\n",
    "print(d[key])"
   ]
  },
  {
   "cell_type": "code",
   "execution_count": 11,
   "id": "6c2c3012-0c73-4e49-a2af-56c9c494cfd2",
   "metadata": {},
   "outputs": [
    {
     "ename": "SyntaxError",
     "evalue": "invalid syntax (205528135.py, line 6)",
     "output_type": "error",
     "traceback": [
      "\u001b[0;36m  Cell \u001b[0;32mIn[11], line 6\u001b[0;36m\u001b[0m\n\u001b[0;31m    except typeError as e:\u001b[0m\n\u001b[0m    ^\u001b[0m\n\u001b[0;31mSyntaxError\u001b[0m\u001b[0;31m:\u001b[0m invalid syntax\n"
     ]
    }
   ],
   "source": [
    "d = {}\n",
    "key = [1,2,3]\n",
    "\n",
    "try:\n",
    "    d[key] = \"values\"\n",
    "    except typeError as e:\n",
    "        printf(\"Error:(e)\")"
   ]
  },
  {
   "cell_type": "code",
   "execution_count": null,
   "id": "83f89e90-f43b-4012-8c02-1925eb6060b8",
   "metadata": {},
   "outputs": [],
   "source": [
    "#Keys:\n",
    "#1 immutablity of dictionary keys ensure that the hash value of the key reminds consistance, which is crucial for the dictionaries internal operation \n",
    "#2.immutable types right strings, tuples,and numbers or suitable for dictionary keys , while \n",
    "#mutable type like list and dictionary themselves cannot be used as keys. \n",
    "#3.by inforcing immutability,programming languages can maintain the integrity and performance of their dictary data structures."
   ]
  }
 ],
 "metadata": {
  "kernelspec": {
   "display_name": "Python 3 (ipykernel)",
   "language": "python",
   "name": "python3"
  },
  "language_info": {
   "codemirror_mode": {
    "name": "ipython",
    "version": 3
   },
   "file_extension": ".py",
   "mimetype": "text/x-python",
   "name": "python",
   "nbconvert_exporter": "python",
   "pygments_lexer": "ipython3",
   "version": "3.10.8"
  }
 },
 "nbformat": 4,
 "nbformat_minor": 5
}
